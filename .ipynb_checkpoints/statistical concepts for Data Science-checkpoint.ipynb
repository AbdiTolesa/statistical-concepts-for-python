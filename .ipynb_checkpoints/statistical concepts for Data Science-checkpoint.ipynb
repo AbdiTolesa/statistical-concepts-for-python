{
 "cells": [
  {
   "cell_type": "markdown",
   "id": "d464cefb",
   "metadata": {},
   "source": [
    "## Statistical concepts for Data Science"
   ]
  },
  {
   "cell_type": "code",
   "execution_count": 3,
   "id": "cf53768b",
   "metadata": {},
   "outputs": [],
   "source": [
    "# for inline plots in jupyter\n",
    "%matplotlib inline\n",
    "# import matplotlib\n",
    "import matplotlib.pyplot as plt\n",
    "# for latex equations\n",
    "from IPython.display import Math, Latex\n",
    "# for displaying images\n",
    "from IPython.core.display import Image\n",
    "\n",
    "# import seaborn\n",
    "import seaborn as sns\n",
    "# settings for seaborn plotting style\n",
    "sns.set(color_codes=True)\n",
    "# settings for seaborn plot sizes\n",
    "sns.set(rc={'figure.figsize':(5,5)})"
   ]
  },
  {
   "cell_type": "markdown",
   "id": "64822769",
   "metadata": {},
   "source": [
    "### 1. Normal distribution"
   ]
  },
  {
   "cell_type": "code",
   "execution_count": 4,
   "id": "5d8d1770",
   "metadata": {},
   "outputs": [
    {
     "name": "stderr",
     "output_type": "stream",
     "text": [
      "c:\\python39\\lib\\site-packages\\seaborn\\distributions.py:2619: FutureWarning: `distplot` is a deprecated function and will be removed in a future version. Please adapt your code to use either `displot` (a figure-level function with similar flexibility) or `histplot` (an axes-level function for histograms).\n",
      "  warnings.warn(msg, FutureWarning)\n"
     ]
    },
    {
     "data": {
      "text/plain": [
       "[Text(0.5, 0, 'Normal Distribution'), Text(0, 0.5, 'Frequency')]"
      ]
     },
     "execution_count": 4,
     "metadata": {},
     "output_type": "execute_result"
    },
    {
     "data": {
      "image/png": "[encoded data removed]",
      "text/plain": [
       "<Figure size 360x360 with 1 Axes>"
      ]
     },
     "metadata": {},
     "output_type": "display_data"
    }
   ],
   "source": [
    "from scipy.stats import norm\n",
    "# generate random numbers from N(0,1)\n",
    "data_normal = norm.rvs(size=10000,loc=0,scale=1)\n",
    "\n",
    "ax = sns.distplot(data_normal,\n",
    "                  bins=100,\n",
    "                  kde=True,\n",
    "                  color='skyblue',\n",
    "                  hist_kws={\"linewidth\": 15,'alpha':1})\n",
    "ax.set(xlabel='Normal Distribution', ylabel='Frequency')"
   ]
  },
  {
   "cell_type": "markdown",
   "id": "2d941c73",
   "metadata": {},
   "source": [
    "### 2. Binomial Distribution"
   ]
  },
  {
   "cell_type": "code",
   "execution_count": 5,
   "id": "798a0a4f",
   "metadata": {},
   "outputs": [
    {
     "data": {
      "image/png": "[encoded data removed]",
      "text/plain": [
       "<Figure size 360x360 with 1 Axes>"
      ]
     },
     "metadata": {},
     "output_type": "display_data"
    }
   ],
   "source": [
    "from scipy.stats import binom\n",
    "# setting the values of n and p\n",
    "n = 6\n",
    "p = 0.6\n",
    "# defining list of r values\n",
    "r_values = list(range(n + 1))\n",
    "dist = [binom.pmf(r, n, p) for r in r_values ]\n",
    "# plotting the graph \n",
    "plt.bar(r_values, dist)\n",
    "plt.show()"
   ]
  },
  {
   "cell_type": "markdown",
   "id": "1acbb9a8",
   "metadata": {},
   "source": [
    "### 3. Covariance and Correlation"
   ]
  },
  {
   "cell_type": "code",
   "execution_count": 9,
   "id": "a2e0cba1",
   "metadata": {},
   "outputs": [
    {
     "name": "stdout",
     "output_type": "stream",
     "text": [
      "Collecting sklearn\n",
      "  Downloading sklearn-0.0.tar.gz (1.1 kB)\n",
      "Collecting scikit-learn\n",
      "  Downloading scikit_learn-1.0.2-cp39-cp39-win_amd64.whl (7.2 MB)\n",
      "Requirement already satisfied: scipy>=1.1.0 in c:\\python39\\lib\\site-packages (from scikit-learn->sklearn) (1.7.3)\n",
      "Requirement already satisfied: numpy>=1.14.6 in c:\\python39\\lib\\site-packages (from scikit-learn->sklearn) (1.21.2)\n",
      "Collecting threadpoolctl>=2.0.0\n",
      "  Downloading threadpoolctl-3.1.0-py3-none-any.whl (14 kB)\n",
      "Collecting joblib>=0.11\n",
      "  Downloading joblib-1.1.0-py2.py3-none-any.whl (306 kB)\n",
      "Building wheels for collected packages: sklearn\n",
      "  Building wheel for sklearn (setup.py): started\n",
      "  Building wheel for sklearn (setup.py): finished with status 'done'\n",
      "  Created wheel for sklearn: filename=sklearn-0.0-py2.py3-none-any.whl size=1317 sha256=331f16cc9c54798c1d3c817d0449015ffba2cf73bb6d35ff38a104b202fe56ee\n",
      "  Stored in directory: c:\\users\\win 10\\appdata\\local\\pip\\cache\\wheels\\e4\\7b\\98\\b6466d71b8d738a0c547008b9eb39bf8676d1ff6ca4b22af1c\n",
      "Successfully built sklearn\n",
      "Installing collected packages: threadpoolctl, joblib, scikit-learn, sklearn\n",
      "Successfully installed joblib-1.1.0 scikit-learn-1.0.2 sklearn-0.0 threadpoolctl-3.1.0\n"
     ]
    },
    {
     "name": "stderr",
     "output_type": "stream",
     "text": [
      "WARNING: Ignoring invalid distribution -ip (c:\\python39\\lib\\site-packages)\n",
      "WARNING: Ignoring invalid distribution -ip (c:\\python39\\lib\\site-packages)\n",
      "WARNING: Ignoring invalid distribution -ip (c:\\python39\\lib\\site-packages)\n",
      "WARNING: Ignoring invalid distribution -ip (c:\\python39\\lib\\site-packages)\n",
      "WARNING: Ignoring invalid distribution -ip (c:\\python39\\lib\\site-packages)\n",
      "WARNING: Ignoring invalid distribution -ip (c:\\python39\\lib\\site-packages)\n",
      "WARNING: Ignoring invalid distribution -ip (c:\\python39\\lib\\site-packages)\n",
      "WARNING: Ignoring invalid distribution -ip (c:\\python39\\lib\\site-packages)\n",
      "WARNING: Ignoring invalid distribution -ip (c:\\python39\\lib\\site-packages)\n",
      "WARNING: Ignoring invalid distribution -ip (c:\\python39\\lib\\site-packages)\n",
      "WARNING: You are using pip version 21.1.1; however, version 22.0.3 is available.\n",
      "You should consider upgrading via the 'c:\\python39\\python.exe -m pip install --upgrade pip' command.\n"
     ]
    }
   ],
   "source": [
    "# !pip install sklearn\n",
    "from sklearn.datasets import load_iris"
   ]
  },
  {
   "cell_type": "code",
   "execution_count": 79,
   "id": "51cc2735",
   "metadata": {},
   "outputs": [
    {
     "name": "stdout",
     "output_type": "stream",
     "text": [
      "[[0.22081633 0.07310204]\n",
      " [0.07310204 0.03910612]]\n",
      "0.07310204081632653\n"
     ]
    }
   ],
   "source": [
    "import pandas as pd\n",
    "import numpy as np\n",
    "\n",
    "data = load_iris().data\n",
    "labels = load_iris().target\n",
    "labels = np.reshape(labels,(150,1))\n",
    "data = np.concatenate([data,labels],axis=-1)\n",
    "names = ['sepal-length', 'sepal-width', 'petal-length', 'petal-width', 'species']\n",
    "dataset = pd.DataFrame(data,columns=names)\n",
    "dataset['species'].replace(0, 'Iris-setosa',inplace=True)\n",
    "dataset['species'].replace(1, 'Iris-versicolor',inplace=True)\n",
    "dataset['species'].replace(2, 'Iris-virginica',inplace=True)\n",
    "dataset.head()\n",
    "\n",
    "versicolor_petal_length = dataset[dataset.species == 'Iris-versicolor']['petal-length']\n",
    "versicolor_petal_width = dataset[dataset.species == 'Iris-versicolor']['petal-width']\n",
    "\n",
    "\n",
    "# Compute the covariance matrix: covariance_matrix\n",
    "covariance_matrix = np.cov(versicolor_petal_length, versicolor_petal_width)\n",
    "\n",
    "# Print covariance matrix\n",
    "print(covariance_matrix)\n",
    "\n",
    "# Extract covariance of length and width of petals: petal_cov\n",
    "petal_cov = covariance_matrix[0,1]\n",
    "\n",
    "# Print the length/width covariance\n",
    "print(petal_cov)\n"
   ]
  },
  {
   "cell_type": "code",
   "execution_count": 80,
   "id": "2384d7b0",
   "metadata": {},
   "outputs": [
    {
     "name": "stdout",
     "output_type": "stream",
     "text": [
      "0.7866680885228169\n"
     ]
    }
   ],
   "source": [
    "def pearson_r(x, y):\n",
    "    \"\"\"Compute Pearson correlation coefficient between two arrays.\"\"\"\n",
    "    # Compute correlation matrix: corr_mat\n",
    "    corr_mat = np.corrcoef(x, y)\n",
    "\n",
    "    # Return entry [0,1]\n",
    "    return corr_mat[0,1]\n",
    "\n",
    "# Compute Pearson correlation coefficient for I. versicolor\n",
    "r = pearson_r(versicolor_petal_width, versicolor_petal_length)\n",
    "\n",
    "# Print the result\n",
    "print(r)"
   ]
  },
  {
   "cell_type": "markdown",
   "id": "d82ff829",
   "metadata": {},
   "source": [
    "### 4. P-value"
   ]
  },
  {
   "cell_type": "markdown",
   "id": "e24af605",
   "metadata": {},
   "source": [
    "The p-value, or probability value, tells you how likely it is that your data could have occurred under the null hypothesis. \n",
    "The p-value is a proportion: if your p-value is 0.05, that means that 5% of the time you would see a test statistic at least as extreme as the one you found if the null hypothesis was true.\n",
    "\n",
    "P-values are most often used by researchers to say whether a certain pattern they have measured is statistically significant.\n",
    "\n",
    "Statistical significance is another way of saying that the p-value of a statistical test is small enough to reject the null hypothesis of the test."
   ]
  },
  {
   "cell_type": "code",
   "execution_count": 83,
   "id": "3c25052b",
   "metadata": {},
   "outputs": [
    {
     "name": "stdout",
     "output_type": "stream",
     "text": [
      "48\n",
      "Percentage of numbers larger than 183.0 is 0.48%\n",
      "Percentage of numbers further than the population mean of 170.0 by +/-13.0 is 0.92%\n"
     ]
    },
    {
     "data": {
      "image/png": "[encoded data removed]",
      "text/plain": [
       "<Figure size 576x576 with 1 Axes>"
      ]
     },
     "metadata": {},
     "output_type": "display_data"
    }
   ],
   "source": [
    "def pvalue_101(mu, sigma, samp_size, samp_mean=0, deltam=0):\n",
    "    np.random.seed(12)\n",
    "    s1 = np.random.normal(mu, sigma, samp_size)\n",
    "    if samp_mean > 0:\n",
    "        print(len(s1[s1>samp_mean]))\n",
    "        outliers = float(len(s1[s1>samp_mean])*100)/float(len(s1))\n",
    "        print('Percentage of numbers larger than {} is {}%'.format(samp_mean, outliers))\n",
    "    if deltam == 0:\n",
    "        deltam = abs(mu-samp_mean)\n",
    "    if deltam > 0 :\n",
    "        outliers = (float(len(s1[s1>(mu+deltam)]))\n",
    "                    +float(len(s1[s1<(mu-deltam)])))*100.0/float(len(s1))\n",
    "        print('Percentage of numbers further than the population mean of {} by +/-{} is {}%'.format(mu, deltam, outliers))\n",
    "\n",
    "    fig, ax = plt.subplots(figsize=(8,8))\n",
    "    fig.suptitle('Normal Distribution: population_mean={}'.format(mu) )\n",
    "    plt.hist(s1)\n",
    "    plt.axvline(x=mu+deltam, color='red')\n",
    "    plt.axvline(x=mu-deltam, color='green')\n",
    "    plt.show()\n",
    "    \n",
    "pvalue_101(170.0, 5.0, 10000, 183.0) "
   ]
  },
  {
   "cell_type": "markdown",
   "id": "fc86e04d",
   "metadata": {},
   "source": [
    "### 5. Calculating PMF of a Binomial Population"
   ]
  },
  {
   "cell_type": "code",
   "execution_count": 94,
   "id": "0d6ea883",
   "metadata": {},
   "outputs": [
    {
     "data": {
      "text/plain": [
       "<matplotlib.collections.LineCollection at 0x1bdcd0788e0>"
      ]
     },
     "execution_count": 94,
     "metadata": {},
     "output_type": "execute_result"
    },
    {
     "data": {
      "image/png": "[encoded data removed]",
      "text/plain": [
       "<Figure size 360x360 with 1 Axes>"
      ]
     },
     "metadata": {},
     "output_type": "display_data"
    }
   ],
   "source": [
    ">>> from scipy.stats import binom\n",
    ">>> import matplotlib.pyplot as plt\n",
    ">>> fig, ax = plt.subplots(1, 1)\n",
    ">>> n, p = 10, 0.5\n",
    ">>> mean, var, skew, kurt = binom.stats(n, p, moments='mvsk')\n",
    "\n",
    ">>> x = np.arange(binom.ppf(0.01, n, p),\n",
    "...               binom.ppf(0.99, n, p))\n",
    ">>> ax.plot(x, binom.pmf(x, n, p), 'bo', ms=8, label='binom pmf')\n",
    ">>> ax.vlines(x, 0, binom.pmf(x, n, p), colors='b', lw=5, alpha=0.5)\n"
   ]
  },
  {
   "cell_type": "markdown",
   "id": "73d10004",
   "metadata": {},
   "source": [
    "### 6. Cumulative Distribution Function CDF"
   ]
  },
  {
   "cell_type": "code",
   "execution_count": 95,
   "id": "713f741a",
   "metadata": {},
   "outputs": [
    {
     "data": {
      "text/plain": [
       "0.623046875"
      ]
     },
     "execution_count": 95,
     "metadata": {},
     "output_type": "execute_result"
    }
   ],
   "source": [
    "# Probability of 5 heads or less after 10 throws with a fair coin\n",
    "binom.cdf(k=5, n=10, p=0.5)"
   ]
  },
  {
   "cell_type": "code",
   "execution_count": 96,
   "id": "0dd97f75",
   "metadata": {},
   "outputs": [
    {
     "data": {
      "text/plain": [
       "0.9999909653138043"
      ]
     },
     "execution_count": 96,
     "metadata": {},
     "output_type": "execute_result"
    }
   ],
   "source": [
    "# Probability of 50 heads or less after 100 throws with p=0.3\n",
    "binom.cdf(k=50, n=100, p=0.3)"
   ]
  },
  {
   "cell_type": "markdown",
   "id": "655bcf24",
   "metadata": {},
   "source": [
    "### 7. Oversampling data with numpy in Python"
   ]
  },
  {
   "cell_type": "code",
   "execution_count": 103,
   "id": "e49cabe8",
   "metadata": {},
   "outputs": [
    {
     "name": "stdout",
     "output_type": "stream",
     "text": [
      "[0 0 0 0 0 0 0 0 0 0 0 0 0 0 0 0 0 0 0 0 0 0 0 0 0 0 0 0 0 1 1 1 1 1 1 1 1\n",
      " 1 1 1 1 1 1 1 1 1 1 1 1 1 1 1 1 1 1 1 1 1 1 1 1 1 1 1 1 1 1 1 1 1 1 1 1 1\n",
      " 1 1 1 1 1 1 1 1 1 1 1 1 1 1 1 1 1 1 1 1 1 1 1 1 1 1 1 1 1 1 1 1 1 1 1 1 1\n",
      " 1 1 1 1 1 1 1 1 1 1 1 1 1 1 1 1 1 1 1 1 1 1 1 1 1 1 1 1 1 1 1 1 1 1 1 1 1]\n",
      "\n",
      "s_class0:  29\n",
      "\n",
      "s_class1:  119\n",
      "[0 0 0 0 0 0 0 0 0 0 0 0 0 0 0 0 0 0 0 0 0 0 0 0 0 0 0 0 0 1 1 1 1 1 1 1 1\n",
      " 1 1 1 1 1 1 1 1 1 1 1 1 1 1 1 1 1 1 1 1 1 1 1 1 1 1 1 1 1 1 1 1 1 1 1 1 1\n",
      " 1 1 1 1 1 1 1 1 1 1 1 1 1 1 1 1 1 1 1 1 1 1 1 1 1 1 1 1 1 1 1 1 1 1 1 1 1\n",
      " 1 1 1 1 1 1 1 1 1 1 1 1 1 1 1 1 1 1 1 1 1 1 1 1 1 1 1 1 1 1 1 1 1 1 1 1 1]\n",
      "[0 0 0 0 0 0 0 0 0 0 0 0 0 0 0 0 0 0 0 0 0 0 0 0 0 0 0 0 0 0 0 0 0 0 0 0 0\n",
      " 0 0 0 0 0 0 0 0 0 0 0 0 0 0 0 0 0 0 0 0 0 0 0 0 0 0 0 0 0 0 0 0 0 0 0 0 0\n",
      " 0 0 0 0 0 0 0 0 0 0 0 0 0 0 0 0 0 0 0 0 0 0 0 0 0 0 0 0 0 0 0 0 0 0 0 0 0\n",
      " 0 0 0 0 0 0 0 0 1 1 1 1 1 1 1 1 1 1 1 1 1 1 1 1 1 1 1 1 1 1 1 1 1 1 1 1 1\n",
      " 1 1 1 1 1 1 1 1 1 1 1 1 1 1 1 1 1 1 1 1 1 1 1 1 1 1 1 1 1 1 1 1 1 1 1 1 1\n",
      " 1 1 1 1 1 1 1 1 1 1 1 1 1 1 1 1 1 1 1 1 1 1 1 1 1 1 1 1 1 1 1 1 1 1 1 1 1\n",
      " 1 1 1 1 1 1 1 1 1 1 1 1 1 1 1 1]\n"
     ]
    }
   ],
   "source": [
    "import numpy as np\n",
    "from sklearn import datasets\n",
    "\n",
    "wine = datasets.load_wine()\n",
    "\n",
    "X = wine.data\n",
    "y = wine.target\n",
    "\n",
    "X = X[30:,:]\n",
    "y = y[30:]\n",
    "\n",
    "# introduce imbalance\n",
    "y = np.where((y == 0), 0, 1)\n",
    "\n",
    "i_class0 = np.where(y == 0)[0]\n",
    "i_class1 = np.where(y == 1)[0]\n",
    "\n",
    "s_class0 = len(i_class0); print(); print(\"s_class0: \", s_class0)\n",
    "s_class1 = len(i_class1); print(); print(\"s_class1: \", s_class1)\n",
    "\n",
    "i_class0_upsampled = np.random.choice(i_class0, size=s_class1, replace=True)\n",
    "print(np.hstack((y[i_class0], y[i_class1])))\n",
    "print(np.hstack((y[i_class0_upsampled], y[i_class1])))"
   ]
  },
  {
   "cell_type": "markdown",
   "id": "4b585183",
   "metadata": {},
   "source": [
    "### 8. Resampling with Sklearn  \n",
    "https://vitalflux.com/handling-class-imbalance-sklearn-resample-python/"
   ]
  },
  {
   "cell_type": "code",
   "execution_count": 116,
   "id": "5c8f65d7",
   "metadata": {},
   "outputs": [
    {
     "name": "stdout",
     "output_type": "stream",
     "text": [
      "[[1.354e+01 1.436e+01 8.746e+01 ... 1.288e-01 2.977e-01 7.259e-02]\n",
      " [1.308e+01 1.571e+01 8.563e+01 ... 7.283e-02 3.184e-01 8.183e-02]\n",
      " [9.504e+00 1.244e+01 6.034e+01 ... 6.227e-02 2.450e-01 7.773e-02]\n",
      " ...\n",
      " [1.863e+01 2.511e+01 1.248e+02 ... 1.848e-01 3.444e-01 9.782e-02]\n",
      " [1.184e+01 1.870e+01 7.793e+01 ... 1.546e-01 4.761e-01 1.402e-01]\n",
      " [1.702e+01 2.398e+01 1.128e+02 ... 1.847e-01 3.530e-01 8.482e-02]] [1 1 1 1 1 1 1 1 1 1 1 1 1 1 1 1 1 1 1 1 1 1 1 1 1 1 1 1 1 1 1 1 1 1 1 1 1\n",
      " 1 1 1 1 1 1 1 1 1 1 1 1 1 1 1 1 1 1 1 1 1 1 1 1 1 1 1 1 1 1 1 1 1 1 1 1 1\n",
      " 1 1 1 1 1 1 1 1 1 1 1 1 1 1 1 1 1 1 1 1 1 1 1 1 1 1 1 1 1 1 1 1 1 1 1 1 1\n",
      " 1 1 1 1 1 1 1 1 1 1 1 1 1 1 1 1 1 1 1 1 1 1 1 1 1 1 1 1 1 1 1 1 1 1 1 1 1\n",
      " 1 1 1 1 1 1 1 1 1 1 1 1 1 1 1 1 1 1 1 1 1 1 1 1 1 1 1 1 1 1 1 1 1 1 1 1 1\n",
      " 1 1 1 1 1 1 1 1 1 1 1 1 1 1 1 1 1 1 1 1 1 1 1 1 1 1 1 1 1 1 1 1 1 1 1 1 1\n",
      " 1 1 1 1 1 1 1 1 1 1 1 1 1 1 1 1 1 1 1 1 1 1 1 1 1 1 1 1 1 1 1 1 1 1 1 1 1\n",
      " 1 1 1 1 1 1 1 1 1 1 1 1 1 1 1 1 1 1 1 1 1 1 1 1 1 1 1 1 1 1 1 1 1 1 1 1 1\n",
      " 1 1 1 1 1 1 1 1 1 1 1 1 1 1 1 1 1 1 1 1 1 1 1 1 1 1 1 1 1 1 1 1 1 1 1 1 1\n",
      " 1 1 1 1 1 1 1 1 1 1 1 1 1 1 1 1 1 1 1 1 1 1 1 1 0 0 0 0 0 0 0 0 0 0 0 0 0\n",
      " 0 0 0 0 0 0 0 0 0 0 0 0 0 0 0 0 0]\n",
      "[[1.354e+01 1.436e+01 8.746e+01 ... 1.288e-01 2.977e-01 7.259e-02]\n",
      " [1.308e+01 1.571e+01 8.563e+01 ... 7.283e-02 3.184e-01 8.183e-02]\n",
      " [9.504e+00 1.244e+01 6.034e+01 ... 6.227e-02 2.450e-01 7.773e-02]\n",
      " ...\n",
      " [1.373e+01 2.261e+01 9.360e+01 ... 2.208e-01 3.596e-01 1.431e-01]\n",
      " [1.373e+01 2.261e+01 9.360e+01 ... 2.208e-01 3.596e-01 1.431e-01]\n",
      " [2.116e+01 2.304e+01 1.372e+02 ... 2.009e-01 2.822e-01 7.526e-02]] [1 1 1 1 1 1 1 1 1 1 1 1 1 1 1 1 1 1 1 1 1 1 1 1 1 1 1 1 1 1 1 1 1 1 1 1 1\n",
      " 1 1 1 1 1 1 1 1 1 1 1 1 1 1 1 1 1 1 1 1 1 1 1 1 1 1 1 1 1 1 1 1 1 1 1 1 1\n",
      " 1 1 1 1 1 1 1 1 1 1 1 1 1 1 1 1 1 1 1 1 1 1 1 1 1 1 1 1 1 1 1 1 1 1 1 1 1\n",
      " 1 1 1 1 1 1 1 1 1 1 1 1 1 1 1 1 1 1 1 1 1 1 1 1 1 1 1 1 1 1 1 1 1 1 1 1 1\n",
      " 1 1 1 1 1 1 1 1 1 1 1 1 1 1 1 1 1 1 1 1 1 1 1 1 1 1 1 1 1 1 1 1 1 1 1 1 1\n",
      " 1 1 1 1 1 1 1 1 1 1 1 1 1 1 1 1 1 1 1 1 1 1 1 1 1 1 1 1 1 1 1 1 1 1 1 1 1\n",
      " 1 1 1 1 1 1 1 1 1 1 1 1 1 1 1 1 1 1 1 1 1 1 1 1 1 1 1 1 1 1 1 1 1 1 1 1 1\n",
      " 1 1 1 1 1 1 1 1 1 1 1 1 1 1 1 1 1 1 1 1 1 1 1 1 1 1 1 1 1 1 1 1 1 1 1 1 1\n",
      " 1 1 1 1 1 1 1 1 1 1 1 1 1 1 1 1 1 1 1 1 1 1 1 1 1 1 1 1 1 1 1 1 1 1 1 1 1\n",
      " 1 1 1 1 1 1 1 1 1 1 1 1 1 1 1 1 1 1 1 1 1 1 1 1 0 0 0 0 0 0 0 0 0 0 0 0 0\n",
      " 0 0 0 0 0 0 0 0 0 0 0 0 0 0 0 0 0 0 0 0 0 0 0 0 0 0 0 0 0 0 0 0 0 0 0 0 0\n",
      " 0 0 0 0 0 0 0 0 0 0 0 0 0 0 0 0 0 0 0 0 0 0 0 0 0 0 0 0 0 0 0 0 0 0 0 0 0\n",
      " 0 0 0 0 0 0 0 0 0 0 0 0 0 0 0 0 0 0 0 0 0 0 0 0 0 0 0 0 0 0 0 0 0 0 0 0 0\n",
      " 0 0 0 0 0 0 0 0 0 0 0 0 0 0 0 0 0 0 0 0 0 0 0 0 0 0 0 0 0 0 0 0 0 0 0 0 0\n",
      " 0 0 0 0 0 0 0 0 0 0 0 0 0 0 0 0 0 0 0 0 0 0 0 0 0 0 0 0 0 0 0 0 0 0 0 0 0\n",
      " 0 0 0 0 0 0 0 0 0 0 0 0 0 0 0 0 0 0 0 0 0 0 0 0 0 0 0 0 0 0 0 0 0 0 0 0 0\n",
      " 0 0 0 0 0 0 0 0 0 0 0 0 0 0 0 0 0 0 0 0 0 0 0 0 0 0 0 0 0 0 0 0 0 0 0 0 0\n",
      " 0 0 0 0 0 0 0 0 0 0 0 0 0 0 0 0 0 0 0 0 0 0 0 0 0 0 0 0 0 0 0 0 0 0 0 0 0\n",
      " 0 0 0 0 0 0 0 0 0 0 0 0 0 0 0 0 0 0 0 0 0 0 0 0 0 0 0 0 0 0 0 0 0 0 0 0 0\n",
      " 0 0 0 0 0 0 0 0 0 0 0]\n"
     ]
    }
   ],
   "source": [
    "from sklearn import datasets\n",
    "import numpy as np\n",
    "  \n",
    "bc = datasets.load_breast_cancer()\n",
    "X = bc.data\n",
    "y = bc.target\n",
    "  \n",
    "X_imbalanced = np.vstack((X[y == 1], X[y == 0][:30]))\n",
    "y_imbalanced = np.hstack((y[y == 1], y[y == 0][:30]))\n",
    "\n",
    "import numpy as np\n",
    "from sklearn.utils import resample\n",
    "#\n",
    "# Create oversampled training data set for minority class\n",
    "#\n",
    "X_oversampled, y_oversampled = resample(X_imbalanced[y_imbalanced == 0],\n",
    "                                        y_imbalanced[y_imbalanced == 0],\n",
    "                                        replace=True,\n",
    "                                        n_samples=X_imbalanced[y_imbalanced == 1].shape[0],\n",
    "                                        random_state=123)\n",
    "#\n",
    "# Append the oversampled minority class to training data and related labels\n",
    "#\n",
    "X_balanced = np.vstack((X[y == 1], X_oversampled))\n",
    "y_balanced = np.hstack((y[y == 1], y_oversampled))\n",
    "\n",
    "print(X_imbalanced, y_imbalanced)\n",
    "print(X_balanced, y_balanced)"
   ]
  },
  {
   "cell_type": "markdown",
   "id": "a62e3b2b",
   "metadata": {},
   "source": [
    "### 9. Percentiles, Quartiles and Interquartile Range (IQR)"
   ]
  },
  {
   "cell_type": "code",
   "execution_count": 139,
   "id": "d5cdf002",
   "metadata": {},
   "outputs": [
    {
     "name": "stdout",
     "output_type": "stream",
     "text": [
      "Interquartile range with scipy: 0.5999999999999996 \n",
      "Interquartile range with numpy: 0.5999999999999996\n"
     ]
    }
   ],
   "source": [
    "# Quartiles are values that divide your data into quarters. \n",
    "# interquartile range tells you the spread of the middle half of your distribution. \n",
    "from scipy.stats import iqr\n",
    "\n",
    "# Calculate interquartile range using scipy.stats.iqr library\n",
    "IQR = iqr(versicolor_petal_length)\n",
    "\n",
    "print(f\"Interquartile range with scipy: {IQR} \")\n",
    "\n",
    "# Calculate interquartile range using numpy.percentile\n",
    "first_quartile = np.percentile(versicolor_petal_length, 25)\n",
    "third_quartile = np.percentile(versicolor_petal_length, 75)\n",
    "print(f\"Interquartile range with numpy: {third_quartile - first_quartile}\")"
   ]
  },
  {
   "cell_type": "markdown",
   "id": "2b34ee6e",
   "metadata": {},
   "source": [
    "### 10. Bootsrapping sampling"
   ]
  },
  {
   "cell_type": "code",
   "execution_count": 164,
   "id": "a5382768",
   "metadata": {},
   "outputs": [
    {
     "name": "stdout",
     "output_type": "stream",
     "text": [
      "1.3259999999999998 0.038324\n",
      "1.25 0.03609999999999999\n"
     ]
    },
    {
     "data": {
      "text/plain": [
       "array([1.308, 1.346])"
      ]
     },
     "execution_count": 164,
     "metadata": {},
     "output_type": "execute_result"
    },
    {
     "data": {
      "image/png": "[encoded data removed]",
      "text/plain": [
       "<Figure size 360x360 with 1 Axes>"
      ]
     },
     "metadata": {},
     "output_type": "display_data"
    }
   ],
   "source": [
    "import matplotlib.pyplot as plt\n",
    "\n",
    "print(versicolor_petal_width.mean(), np.var(versicolor_petal_width))\n",
    "bs_sample = np.random.choice(versicolor_petal_width, size=len(versicolor_petal_width))\n",
    "print(bs_sample.mean(), np.var(bs_sample))\n",
    "\n",
    "def generate_bootstrap(data, measurement):\n",
    "        bootstrap_sample = np.random.choice(data, size=len(data))\n",
    "        return measurement(bootstrap_sample)\n",
    "\n",
    "bootstrapped_measures = np.empty(10000)\n",
    "for i in range(len(bootstrapped_measures)):\n",
    "    bootstrapped_measures[i] = generate_bootstrap(versicolor_petal_width, np.mean)\n",
    "_ = plt.hist(bootstrapped_measures, bins=50)\n",
    "_ = plt.xlabel('Versicolor Petal Width')\n",
    "_ = plt.ylabel(\"PDF\")\n",
    "\n",
    "np.percentile(bootstrapped_measures, [25, 75])"
   ]
  },
  {
   "cell_type": "code",
   "execution_count": null,
   "id": "df7d6884",
   "metadata": {},
   "outputs": [],
   "source": []
  },
  {
   "cell_type": "code",
   "execution_count": null,
   "id": "c8f2ef4c",
   "metadata": {},
   "outputs": [],
   "source": []
  }
 ],
 "metadata": {
  "kernelspec": {
   "display_name": "Python 3 (ipykernel)",
   "language": "python",
   "name": "python3"
  },
  "language_info": {
   "codemirror_mode": {
    "name": "ipython",
    "version": 3
   },
   "file_extension": ".py",
   "mimetype": "text/x-python",
   "name": "python",
   "nbconvert_exporter": "python",
   "pygments_lexer": "ipython3",
   "version": "3.9.5"
  }
 },
 "nbformat": 4,
 "nbformat_minor": 5
}
